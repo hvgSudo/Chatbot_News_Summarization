{
 "cells": [
  {
   "cell_type": "code",
   "execution_count": 19,
   "metadata": {},
   "outputs": [],
   "source": [
    "from GoogleNews import GoogleNews\n",
    "import pandas as pd\n",
    "from newspaper import Article"
   ]
  },
  {
   "cell_type": "code",
   "execution_count": 20,
   "metadata": {},
   "outputs": [
    {
     "name": "stderr",
     "output_type": "stream",
     "text": [
      "/home/khal-drog0/.local/lib/python3.10/site-packages/dateparser/date_parser.py:35: PytzUsageWarning: The localize method is no longer necessary, as this time zone supports the fold attribute (PEP 495). For more details on migrating to a PEP 495-compliant implementation, see https://pytz-deprecation-shim.readthedocs.io/en/latest/migration.html\n",
      "  date_obj = stz.localize(date_obj)\n"
     ]
    }
   ],
   "source": [
    "googlenews = GoogleNews(start = '15/10/2021', end = '15/10/2022')\n",
    "googlenews.search('Formula 1')\n",
    "result = googlenews.result()"
   ]
  },
  {
   "cell_type": "code",
   "execution_count": 21,
   "metadata": {},
   "outputs": [
    {
     "data": {
      "text/html": [
       "<div>\n",
       "<style scoped>\n",
       "    .dataframe tbody tr th:only-of-type {\n",
       "        vertical-align: middle;\n",
       "    }\n",
       "\n",
       "    .dataframe tbody tr th {\n",
       "        vertical-align: top;\n",
       "    }\n",
       "\n",
       "    .dataframe thead th {\n",
       "        text-align: right;\n",
       "    }\n",
       "</style>\n",
       "<table border=\"1\" class=\"dataframe\">\n",
       "  <thead>\n",
       "    <tr style=\"text-align: right;\">\n",
       "      <th></th>\n",
       "      <th>title</th>\n",
       "      <th>media</th>\n",
       "      <th>date</th>\n",
       "      <th>datetime</th>\n",
       "      <th>desc</th>\n",
       "      <th>link</th>\n",
       "      <th>img</th>\n",
       "    </tr>\n",
       "  </thead>\n",
       "  <tbody>\n",
       "    <tr>\n",
       "      <th>0</th>\n",
       "      <td>The Saudi Formula 1 race will go on despite a ...</td>\n",
       "      <td>NPR</td>\n",
       "      <td>6-Mar-2022</td>\n",
       "      <td>NaT</td>\n",
       "      <td>Houthi rebels attacked an oil depot in the Sau...</td>\n",
       "      <td>https://www.npr.org/2022/03/26/1088975885/saud...</td>\n",
       "      <td>data:image/gif;base64,R0lGODlhAQABAIAAAP//////...</td>\n",
       "    </tr>\n",
       "    <tr>\n",
       "      <th>1</th>\n",
       "      <td>Formula 1 and FIA statement on the Saudi Arabi...</td>\n",
       "      <td>F1</td>\n",
       "      <td>6-Mar-2022</td>\n",
       "      <td>NaT</td>\n",
       "      <td>Formula 1 and the FIA can confirm that followi...</td>\n",
       "      <td>https://www.formula1.com/en/latest/article.for...</td>\n",
       "      <td>data:image/gif;base64,R0lGODlhAQABAIAAAP//////...</td>\n",
       "    </tr>\n",
       "    <tr>\n",
       "      <th>2</th>\n",
       "      <td>Saudi Arabian Grand Prix: Drivers to meet with...</td>\n",
       "      <td>Sky Sports</td>\n",
       "      <td>8-Mar-2022</td>\n",
       "      <td>NaT</td>\n",
       "      <td>Formula 1's drivers are set to meet with race ...</td>\n",
       "      <td>https://www.skysports.com/f1/news/12433/125767...</td>\n",
       "      <td>data:image/gif;base64,R0lGODlhAQABAIAAAP//////...</td>\n",
       "    </tr>\n",
       "    <tr>\n",
       "      <th>3</th>\n",
       "      <td>Leclerc shrugs off late reliability scare to o...</td>\n",
       "      <td>F1</td>\n",
       "      <td>10-Jul-2022</td>\n",
       "      <td>NaT</td>\n",
       "      <td>Alpine's Esteban Ocon rounded out the top five...</td>\n",
       "      <td>https://www.formula1.com/en/latest/article.lec...</td>\n",
       "      <td>data:image/gif;base64,R0lGODlhAQABAIAAAP//////...</td>\n",
       "    </tr>\n",
       "    <tr>\n",
       "      <th>4</th>\n",
       "      <td>F1 2022: Our writers give their predictions ah...</td>\n",
       "      <td>F1</td>\n",
       "      <td>6-Mar-2022</td>\n",
       "      <td>NaT</td>\n",
       "      <td>The 2022 Formula 1 World Championship gets und...</td>\n",
       "      <td>https://www.formula1.com/en/latest/article.f1-...</td>\n",
       "      <td>data:image/gif;base64,R0lGODlhAQABAIAAAP//////...</td>\n",
       "    </tr>\n",
       "  </tbody>\n",
       "</table>\n",
       "</div>"
      ],
      "text/plain": [
       "                                               title       media         date  \\\n",
       "0  The Saudi Formula 1 race will go on despite a ...         NPR   6-Mar-2022   \n",
       "1  Formula 1 and FIA statement on the Saudi Arabi...          F1   6-Mar-2022   \n",
       "2  Saudi Arabian Grand Prix: Drivers to meet with...  Sky Sports   8-Mar-2022   \n",
       "3  Leclerc shrugs off late reliability scare to o...          F1  10-Jul-2022   \n",
       "4  F1 2022: Our writers give their predictions ah...          F1   6-Mar-2022   \n",
       "\n",
       "  datetime                                               desc  \\\n",
       "0      NaT  Houthi rebels attacked an oil depot in the Sau...   \n",
       "1      NaT  Formula 1 and the FIA can confirm that followi...   \n",
       "2      NaT  Formula 1's drivers are set to meet with race ...   \n",
       "3      NaT  Alpine's Esteban Ocon rounded out the top five...   \n",
       "4      NaT  The 2022 Formula 1 World Championship gets und...   \n",
       "\n",
       "                                                link  \\\n",
       "0  https://www.npr.org/2022/03/26/1088975885/saud...   \n",
       "1  https://www.formula1.com/en/latest/article.for...   \n",
       "2  https://www.skysports.com/f1/news/12433/125767...   \n",
       "3  https://www.formula1.com/en/latest/article.lec...   \n",
       "4  https://www.formula1.com/en/latest/article.f1-...   \n",
       "\n",
       "                                                 img  \n",
       "0  data:image/gif;base64,R0lGODlhAQABAIAAAP//////...  \n",
       "1  data:image/gif;base64,R0lGODlhAQABAIAAAP//////...  \n",
       "2  data:image/gif;base64,R0lGODlhAQABAIAAAP//////...  \n",
       "3  data:image/gif;base64,R0lGODlhAQABAIAAAP//////...  \n",
       "4  data:image/gif;base64,R0lGODlhAQABAIAAAP//////...  "
      ]
     },
     "execution_count": 21,
     "metadata": {},
     "output_type": "execute_result"
    }
   ],
   "source": [
    "df = pd.DataFrame(result)\n",
    "df.head()"
   ]
  },
  {
   "cell_type": "code",
   "execution_count": 22,
   "metadata": {},
   "outputs": [
    {
     "name": "stderr",
     "output_type": "stream",
     "text": [
      "/home/khal-drog0/.local/lib/python3.10/site-packages/dateparser/date_parser.py:35: PytzUsageWarning: The localize method is no longer necessary, as this time zone supports the fold attribute (PEP 495). For more details on migrating to a PEP 495-compliant implementation, see https://pytz-deprecation-shim.readthedocs.io/en/latest/migration.html\n",
      "  date_obj = stz.localize(date_obj)\n",
      "/home/khal-drog0/.local/lib/python3.10/site-packages/dateparser/date_parser.py:35: PytzUsageWarning: The localize method is no longer necessary, as this time zone supports the fold attribute (PEP 495). For more details on migrating to a PEP 495-compliant implementation, see https://pytz-deprecation-shim.readthedocs.io/en/latest/migration.html\n",
      "  date_obj = stz.localize(date_obj)\n",
      "/home/khal-drog0/.local/lib/python3.10/site-packages/dateparser/date_parser.py:35: PytzUsageWarning: The localize method is no longer necessary, as this time zone supports the fold attribute (PEP 495). For more details on migrating to a PEP 495-compliant implementation, see https://pytz-deprecation-shim.readthedocs.io/en/latest/migration.html\n",
      "  date_obj = stz.localize(date_obj)\n",
      "/home/khal-drog0/.local/lib/python3.10/site-packages/dateparser/date_parser.py:35: PytzUsageWarning: The localize method is no longer necessary, as this time zone supports the fold attribute (PEP 495). For more details on migrating to a PEP 495-compliant implementation, see https://pytz-deprecation-shim.readthedocs.io/en/latest/migration.html\n",
      "  date_obj = stz.localize(date_obj)\n",
      "/home/khal-drog0/.local/lib/python3.10/site-packages/dateparser/date_parser.py:35: PytzUsageWarning: The localize method is no longer necessary, as this time zone supports the fold attribute (PEP 495). For more details on migrating to a PEP 495-compliant implementation, see https://pytz-deprecation-shim.readthedocs.io/en/latest/migration.html\n",
      "  date_obj = stz.localize(date_obj)\n",
      "/home/khal-drog0/.local/lib/python3.10/site-packages/dateparser/date_parser.py:35: PytzUsageWarning: The localize method is no longer necessary, as this time zone supports the fold attribute (PEP 495). For more details on migrating to a PEP 495-compliant implementation, see https://pytz-deprecation-shim.readthedocs.io/en/latest/migration.html\n",
      "  date_obj = stz.localize(date_obj)\n",
      "/home/khal-drog0/.local/lib/python3.10/site-packages/dateparser/date_parser.py:35: PytzUsageWarning: The localize method is no longer necessary, as this time zone supports the fold attribute (PEP 495). For more details on migrating to a PEP 495-compliant implementation, see https://pytz-deprecation-shim.readthedocs.io/en/latest/migration.html\n",
      "  date_obj = stz.localize(date_obj)\n",
      "/home/khal-drog0/.local/lib/python3.10/site-packages/dateparser/date_parser.py:35: PytzUsageWarning: The localize method is no longer necessary, as this time zone supports the fold attribute (PEP 495). For more details on migrating to a PEP 495-compliant implementation, see https://pytz-deprecation-shim.readthedocs.io/en/latest/migration.html\n",
      "  date_obj = stz.localize(date_obj)\n",
      "/home/khal-drog0/.local/lib/python3.10/site-packages/dateparser/date_parser.py:35: PytzUsageWarning: The localize method is no longer necessary, as this time zone supports the fold attribute (PEP 495). For more details on migrating to a PEP 495-compliant implementation, see https://pytz-deprecation-shim.readthedocs.io/en/latest/migration.html\n",
      "  date_obj = stz.localize(date_obj)\n",
      "/home/khal-drog0/.local/lib/python3.10/site-packages/dateparser/date_parser.py:35: PytzUsageWarning: The localize method is no longer necessary, as this time zone supports the fold attribute (PEP 495). For more details on migrating to a PEP 495-compliant implementation, see https://pytz-deprecation-shim.readthedocs.io/en/latest/migration.html\n",
      "  date_obj = stz.localize(date_obj)\n",
      "/home/khal-drog0/.local/lib/python3.10/site-packages/dateparser/date_parser.py:35: PytzUsageWarning: The localize method is no longer necessary, as this time zone supports the fold attribute (PEP 495). For more details on migrating to a PEP 495-compliant implementation, see https://pytz-deprecation-shim.readthedocs.io/en/latest/migration.html\n",
      "  date_obj = stz.localize(date_obj)\n",
      "/home/khal-drog0/.local/lib/python3.10/site-packages/dateparser/date_parser.py:35: PytzUsageWarning: The localize method is no longer necessary, as this time zone supports the fold attribute (PEP 495). For more details on migrating to a PEP 495-compliant implementation, see https://pytz-deprecation-shim.readthedocs.io/en/latest/migration.html\n",
      "  date_obj = stz.localize(date_obj)\n",
      "/home/khal-drog0/.local/lib/python3.10/site-packages/dateparser/date_parser.py:35: PytzUsageWarning: The localize method is no longer necessary, as this time zone supports the fold attribute (PEP 495). For more details on migrating to a PEP 495-compliant implementation, see https://pytz-deprecation-shim.readthedocs.io/en/latest/migration.html\n",
      "  date_obj = stz.localize(date_obj)\n",
      "/home/khal-drog0/.local/lib/python3.10/site-packages/dateparser/date_parser.py:35: PytzUsageWarning: The localize method is no longer necessary, as this time zone supports the fold attribute (PEP 495). For more details on migrating to a PEP 495-compliant implementation, see https://pytz-deprecation-shim.readthedocs.io/en/latest/migration.html\n",
      "  date_obj = stz.localize(date_obj)\n"
     ]
    },
    {
     "data": {
      "text/html": [
       "<div>\n",
       "<style scoped>\n",
       "    .dataframe tbody tr th:only-of-type {\n",
       "        vertical-align: middle;\n",
       "    }\n",
       "\n",
       "    .dataframe tbody tr th {\n",
       "        vertical-align: top;\n",
       "    }\n",
       "\n",
       "    .dataframe thead th {\n",
       "        text-align: right;\n",
       "    }\n",
       "</style>\n",
       "<table border=\"1\" class=\"dataframe\">\n",
       "  <thead>\n",
       "    <tr style=\"text-align: right;\">\n",
       "      <th></th>\n",
       "      <th>title</th>\n",
       "      <th>media</th>\n",
       "      <th>date</th>\n",
       "      <th>datetime</th>\n",
       "      <th>desc</th>\n",
       "      <th>link</th>\n",
       "      <th>img</th>\n",
       "    </tr>\n",
       "  </thead>\n",
       "  <tbody>\n",
       "    <tr>\n",
       "      <th>0</th>\n",
       "      <td>The Saudi Formula 1 race will go on despite a ...</td>\n",
       "      <td>NPR</td>\n",
       "      <td>6-Mar-2022</td>\n",
       "      <td>NaT</td>\n",
       "      <td>Houthi rebels attacked an oil depot in the Sau...</td>\n",
       "      <td>https://www.npr.org/2022/03/26/1088975885/saud...</td>\n",
       "      <td>data:image/gif;base64,R0lGODlhAQABAIAAAP//////...</td>\n",
       "    </tr>\n",
       "    <tr>\n",
       "      <th>1</th>\n",
       "      <td>Formula 1 and FIA statement on the Saudi Arabi...</td>\n",
       "      <td>F1</td>\n",
       "      <td>6-Mar-2022</td>\n",
       "      <td>NaT</td>\n",
       "      <td>Formula 1 and the FIA can confirm that followi...</td>\n",
       "      <td>https://www.formula1.com/en/latest/article.for...</td>\n",
       "      <td>data:image/gif;base64,R0lGODlhAQABAIAAAP//////...</td>\n",
       "    </tr>\n",
       "    <tr>\n",
       "      <th>2</th>\n",
       "      <td>Saudi Arabian Grand Prix: Drivers to meet with...</td>\n",
       "      <td>Sky Sports</td>\n",
       "      <td>8-Mar-2022</td>\n",
       "      <td>NaT</td>\n",
       "      <td>Formula 1's drivers are set to meet with race ...</td>\n",
       "      <td>https://www.skysports.com/f1/news/12433/125767...</td>\n",
       "      <td>data:image/gif;base64,R0lGODlhAQABAIAAAP//////...</td>\n",
       "    </tr>\n",
       "    <tr>\n",
       "      <th>3</th>\n",
       "      <td>Leclerc shrugs off late reliability scare to o...</td>\n",
       "      <td>F1</td>\n",
       "      <td>10-Jul-2022</td>\n",
       "      <td>NaT</td>\n",
       "      <td>Alpine's Esteban Ocon rounded out the top five...</td>\n",
       "      <td>https://www.formula1.com/en/latest/article.lec...</td>\n",
       "      <td>data:image/gif;base64,R0lGODlhAQABAIAAAP//////...</td>\n",
       "    </tr>\n",
       "    <tr>\n",
       "      <th>4</th>\n",
       "      <td>F1 2022: Our writers give their predictions ah...</td>\n",
       "      <td>F1</td>\n",
       "      <td>6-Mar-2022</td>\n",
       "      <td>NaT</td>\n",
       "      <td>The 2022 Formula 1 World Championship gets und...</td>\n",
       "      <td>https://www.formula1.com/en/latest/article.f1-...</td>\n",
       "      <td>data:image/gif;base64,R0lGODlhAQABAIAAAP//////...</td>\n",
       "    </tr>\n",
       "  </tbody>\n",
       "</table>\n",
       "</div>"
      ],
      "text/plain": [
       "                                               title       media         date  \\\n",
       "0  The Saudi Formula 1 race will go on despite a ...         NPR   6-Mar-2022   \n",
       "1  Formula 1 and FIA statement on the Saudi Arabi...          F1   6-Mar-2022   \n",
       "2  Saudi Arabian Grand Prix: Drivers to meet with...  Sky Sports   8-Mar-2022   \n",
       "3  Leclerc shrugs off late reliability scare to o...          F1  10-Jul-2022   \n",
       "4  F1 2022: Our writers give their predictions ah...          F1   6-Mar-2022   \n",
       "\n",
       "  datetime                                               desc  \\\n",
       "0      NaT  Houthi rebels attacked an oil depot in the Sau...   \n",
       "1      NaT  Formula 1 and the FIA can confirm that followi...   \n",
       "2      NaT  Formula 1's drivers are set to meet with race ...   \n",
       "3      NaT  Alpine's Esteban Ocon rounded out the top five...   \n",
       "4      NaT  The 2022 Formula 1 World Championship gets und...   \n",
       "\n",
       "                                                link  \\\n",
       "0  https://www.npr.org/2022/03/26/1088975885/saud...   \n",
       "1  https://www.formula1.com/en/latest/article.for...   \n",
       "2  https://www.skysports.com/f1/news/12433/125767...   \n",
       "3  https://www.formula1.com/en/latest/article.lec...   \n",
       "4  https://www.formula1.com/en/latest/article.f1-...   \n",
       "\n",
       "                                                 img  \n",
       "0  data:image/gif;base64,R0lGODlhAQABAIAAAP//////...  \n",
       "1  data:image/gif;base64,R0lGODlhAQABAIAAAP//////...  \n",
       "2  data:image/gif;base64,R0lGODlhAQABAIAAAP//////...  \n",
       "3  data:image/gif;base64,R0lGODlhAQABAIAAAP//////...  \n",
       "4  data:image/gif;base64,R0lGODlhAQABAIAAAP//////...  "
      ]
     },
     "execution_count": 22,
     "metadata": {},
     "output_type": "execute_result"
    }
   ],
   "source": [
    "for i in range(2, 20):\n",
    "    googlenews.getpage(i)\n",
    "    result = googlenews.result()\n",
    "    df = pd.DataFrame(result)\n",
    "\n",
    "df.head()"
   ]
  },
  {
   "cell_type": "code",
   "execution_count": 23,
   "metadata": {},
   "outputs": [
    {
     "ename": "ArticleException",
     "evalue": "Article `download()` failed with 403 Client Error: Max restarts limit reached for url: https://www.forbes.com/sites/michaellore/2022/07/27/miami-grand-prix-proves-formula-1-is-here-to-stay-in-the-us/ on URL https://www.forbes.com/sites/michaellore/2022/07/27/miami-grand-prix-proves-formula-1-is-here-to-stay-in-the-us/",
     "output_type": "error",
     "traceback": [
      "\u001b[0;31m---------------------------------------------------------------------------\u001b[0m",
      "\u001b[0;31mArticleException\u001b[0m                          Traceback (most recent call last)",
      "Cell \u001b[0;32mIn [23], line 7\u001b[0m\n\u001b[1;32m      5\u001b[0m article \u001b[39m=\u001b[39m Article(df[\u001b[39m'\u001b[39m\u001b[39mlink\u001b[39m\u001b[39m'\u001b[39m][ind])\n\u001b[1;32m      6\u001b[0m article\u001b[39m.\u001b[39mdownload()\n\u001b[0;32m----> 7\u001b[0m article\u001b[39m.\u001b[39;49mparse()\n\u001b[1;32m      8\u001b[0m article\u001b[39m.\u001b[39mnlp()\n\u001b[1;32m      9\u001b[0m \u001b[39mdict\u001b[39m[\u001b[39m'\u001b[39m\u001b[39mDate\u001b[39m\u001b[39m'\u001b[39m] \u001b[39m=\u001b[39m df[\u001b[39m'\u001b[39m\u001b[39mdate\u001b[39m\u001b[39m'\u001b[39m][ind]\n",
      "File \u001b[0;32m~/.local/lib/python3.10/site-packages/newspaper/article.py:191\u001b[0m, in \u001b[0;36mArticle.parse\u001b[0;34m(self)\u001b[0m\n\u001b[1;32m    190\u001b[0m \u001b[39mdef\u001b[39;00m \u001b[39mparse\u001b[39m(\u001b[39mself\u001b[39m):\n\u001b[0;32m--> 191\u001b[0m     \u001b[39mself\u001b[39;49m\u001b[39m.\u001b[39;49mthrow_if_not_downloaded_verbose()\n\u001b[1;32m    193\u001b[0m     \u001b[39mself\u001b[39m\u001b[39m.\u001b[39mdoc \u001b[39m=\u001b[39m \u001b[39mself\u001b[39m\u001b[39m.\u001b[39mconfig\u001b[39m.\u001b[39mget_parser()\u001b[39m.\u001b[39mfromstring(\u001b[39mself\u001b[39m\u001b[39m.\u001b[39mhtml)\n\u001b[1;32m    194\u001b[0m     \u001b[39mself\u001b[39m\u001b[39m.\u001b[39mclean_doc \u001b[39m=\u001b[39m copy\u001b[39m.\u001b[39mdeepcopy(\u001b[39mself\u001b[39m\u001b[39m.\u001b[39mdoc)\n",
      "File \u001b[0;32m~/.local/lib/python3.10/site-packages/newspaper/article.py:531\u001b[0m, in \u001b[0;36mArticle.throw_if_not_downloaded_verbose\u001b[0;34m(self)\u001b[0m\n\u001b[1;32m    529\u001b[0m     \u001b[39mraise\u001b[39;00m ArticleException(\u001b[39m'\u001b[39m\u001b[39mYou must `download()` an article first!\u001b[39m\u001b[39m'\u001b[39m)\n\u001b[1;32m    530\u001b[0m \u001b[39melif\u001b[39;00m \u001b[39mself\u001b[39m\u001b[39m.\u001b[39mdownload_state \u001b[39m==\u001b[39m ArticleDownloadState\u001b[39m.\u001b[39mFAILED_RESPONSE:\n\u001b[0;32m--> 531\u001b[0m     \u001b[39mraise\u001b[39;00m ArticleException(\u001b[39m'\u001b[39m\u001b[39mArticle `download()` failed with \u001b[39m\u001b[39m%s\u001b[39;00m\u001b[39m on URL \u001b[39m\u001b[39m%s\u001b[39;00m\u001b[39m'\u001b[39m \u001b[39m%\u001b[39m\n\u001b[1;32m    532\u001b[0m           (\u001b[39mself\u001b[39m\u001b[39m.\u001b[39mdownload_exception_msg, \u001b[39mself\u001b[39m\u001b[39m.\u001b[39murl))\n",
      "\u001b[0;31mArticleException\u001b[0m: Article `download()` failed with 403 Client Error: Max restarts limit reached for url: https://www.forbes.com/sites/michaellore/2022/07/27/miami-grand-prix-proves-formula-1-is-here-to-stay-in-the-us/ on URL https://www.forbes.com/sites/michaellore/2022/07/27/miami-grand-prix-proves-formula-1-is-here-to-stay-in-the-us/"
     ]
    }
   ],
   "source": [
    "lst = list()\n",
    "\n",
    "for ind in df.index:\n",
    "    dict = {}\n",
    "    article = Article(df['link'][ind])\n",
    "    article.download()\n",
    "    article.parse()\n",
    "    article.nlp()\n",
    "    dict['Date'] = df['date'][ind]\n",
    "    dict['Media'] = df['media'][ind]\n",
    "    dict['Title'] = article.title\n",
    "    dict['Article'] = article.text\n",
    "    dict['Summary'] = article.summary\n",
    "    lst.append(dict)"
   ]
  },
  {
   "cell_type": "code",
   "execution_count": 24,
   "metadata": {},
   "outputs": [
    {
     "name": "stdout",
     "output_type": "stream",
     "text": [
      "<class 'pandas.core.frame.DataFrame'>\n",
      "RangeIndex: 190 entries, 0 to 189\n",
      "Data columns (total 7 columns):\n",
      " #   Column    Non-Null Count  Dtype         \n",
      "---  ------    --------------  -----         \n",
      " 0   title     190 non-null    object        \n",
      " 1   media     190 non-null    object        \n",
      " 2   date      190 non-null    object        \n",
      " 3   datetime  89 non-null     datetime64[ns]\n",
      " 4   desc      190 non-null    object        \n",
      " 5   link      190 non-null    object        \n",
      " 6   img       190 non-null    object        \n",
      "dtypes: datetime64[ns](1), object(6)\n",
      "memory usage: 10.5+ KB\n"
     ]
    }
   ],
   "source": [
    "df.info()"
   ]
  },
  {
   "cell_type": "code",
   "execution_count": null,
   "metadata": {},
   "outputs": [],
   "source": [
    "news_df = pd.DataFrame(list)\n",
    "news_df.to_csv('news.csv')"
   ]
  },
  {
   "cell_type": "code",
   "execution_count": null,
   "metadata": {},
   "outputs": [],
   "source": []
  }
 ],
 "metadata": {
  "kernelspec": {
   "display_name": "Python 3.10.6 64-bit",
   "language": "python",
   "name": "python3"
  },
  "language_info": {
   "codemirror_mode": {
    "name": "ipython",
    "version": 3
   },
   "file_extension": ".py",
   "mimetype": "text/x-python",
   "name": "python",
   "nbconvert_exporter": "python",
   "pygments_lexer": "ipython3",
   "version": "3.10.6"
  },
  "orig_nbformat": 4,
  "vscode": {
   "interpreter": {
    "hash": "916dbcbb3f70747c44a77c7bcd40155683ae19c65e1c03b4aa3499c5328201f1"
   }
  }
 },
 "nbformat": 4,
 "nbformat_minor": 2
}
