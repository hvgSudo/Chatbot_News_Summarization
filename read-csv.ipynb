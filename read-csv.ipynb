{
 "cells": [
  {
   "cell_type": "code",
   "execution_count": 1,
   "metadata": {},
   "outputs": [],
   "source": [
    "import pandas as pd"
   ]
  },
  {
   "cell_type": "code",
   "execution_count": 3,
   "metadata": {},
   "outputs": [
    {
     "data": {
      "text/html": [
       "<div>\n",
       "<style scoped>\n",
       "    .dataframe tbody tr th:only-of-type {\n",
       "        vertical-align: middle;\n",
       "    }\n",
       "\n",
       "    .dataframe tbody tr th {\n",
       "        vertical-align: top;\n",
       "    }\n",
       "\n",
       "    .dataframe thead th {\n",
       "        text-align: right;\n",
       "    }\n",
       "</style>\n",
       "<table border=\"1\" class=\"dataframe\">\n",
       "  <thead>\n",
       "    <tr style=\"text-align: right;\">\n",
       "      <th></th>\n",
       "      <th>Title</th>\n",
       "      <th>Time</th>\n",
       "      <th>Description</th>\n",
       "      <th>Link</th>\n",
       "    </tr>\n",
       "  </thead>\n",
       "  <tbody>\n",
       "    <tr>\n",
       "      <th>0</th>\n",
       "      <td>AS IT HAPPENED: Follow all the action from qua...</td>\n",
       "      <td>The drivers are short of practice time though...</td>\n",
       "      <td>https://www.formula1.com/en/latest/article.li...</td>\n",
       "      <td>NaN</td>\n",
       "    </tr>\n",
       "    <tr>\n",
       "      <th>1</th>\n",
       "      <td>Formula 1 odds picks race time: Surprising 202...</td>\n",
       "      <td>Formula 1 odds picks race time: Surprising 20...</td>\n",
       "      <td>https://www.cbssports.com/motor-sports/news/f...</td>\n",
       "      <td>NaN</td>\n",
       "    </tr>\n",
       "    <tr>\n",
       "      <th>2</th>\n",
       "      <td>Formula 1: Verstappen set to win a second stra...</td>\n",
       "      <td>Max Verstappen of the Netherlands driving the...</td>\n",
       "      <td>https://sportstar.thehindu.com/motorsport/for...</td>\n",
       "      <td>NaN</td>\n",
       "    </tr>\n",
       "    <tr>\n",
       "      <th>3</th>\n",
       "      <td>‘The reality is I won’t be on the grid in 2023...</td>\n",
       "      <td>Daniel Ricciardo has intimated that it's now ...</td>\n",
       "      <td>https://www.formula1.com/en/latest/article.th...</td>\n",
       "      <td>NaN</td>\n",
       "    </tr>\n",
       "    <tr>\n",
       "      <th>4</th>\n",
       "      <td>Formula 1: AlphaTauri announces de Vries as Ga...</td>\n",
       "      <td>De Vries had begun his official F1 racing car...</td>\n",
       "      <td>https://sportstar.thehindu.com/motorsport/for...</td>\n",
       "      <td>NaN</td>\n",
       "    </tr>\n",
       "  </tbody>\n",
       "</table>\n",
       "</div>"
      ],
      "text/plain": [
       "                                               Title  \\\n",
       "0  AS IT HAPPENED: Follow all the action from qua...   \n",
       "1  Formula 1 odds picks race time: Surprising 202...   \n",
       "2  Formula 1: Verstappen set to win a second stra...   \n",
       "3  ‘The reality is I won’t be on the grid in 2023...   \n",
       "4  Formula 1: AlphaTauri announces de Vries as Ga...   \n",
       "\n",
       "                                                Time  \\\n",
       "0   The drivers are short of practice time though...   \n",
       "1   Formula 1 odds picks race time: Surprising 20...   \n",
       "2   Max Verstappen of the Netherlands driving the...   \n",
       "3   Daniel Ricciardo has intimated that it's now ...   \n",
       "4   De Vries had begun his official F1 racing car...   \n",
       "\n",
       "                                         Description  Link  \n",
       "0   https://www.formula1.com/en/latest/article.li...   NaN  \n",
       "1   https://www.cbssports.com/motor-sports/news/f...   NaN  \n",
       "2   https://sportstar.thehindu.com/motorsport/for...   NaN  \n",
       "3   https://www.formula1.com/en/latest/article.th...   NaN  \n",
       "4   https://sportstar.thehindu.com/motorsport/for...   NaN  "
      ]
     },
     "execution_count": 3,
     "metadata": {},
     "output_type": "execute_result"
    }
   ],
   "source": [
    "data = pd.read_csv('data.csv')\n",
    "data.head()"
   ]
  },
  {
   "cell_type": "code",
   "execution_count": 4,
   "metadata": {},
   "outputs": [
    {
     "name": "stdout",
     "output_type": "stream",
     "text": [
      "<class 'pandas.core.frame.DataFrame'>\n",
      "RangeIndex: 269 entries, 0 to 268\n",
      "Data columns (total 4 columns):\n",
      " #   Column       Non-Null Count  Dtype  \n",
      "---  ------       --------------  -----  \n",
      " 0   Title        269 non-null    object \n",
      " 1   Time         269 non-null    object \n",
      " 2   Description  269 non-null    object \n",
      " 3   Link         0 non-null      float64\n",
      "dtypes: float64(1), object(3)\n",
      "memory usage: 8.5+ KB\n"
     ]
    }
   ],
   "source": [
    "data.info()"
   ]
  },
  {
   "cell_type": "code",
   "execution_count": 5,
   "metadata": {},
   "outputs": [
    {
     "data": {
      "text/plain": [
       "269"
      ]
     },
     "execution_count": 5,
     "metadata": {},
     "output_type": "execute_result"
    }
   ],
   "source": [
    "data.shape[0]"
   ]
  },
  {
   "cell_type": "code",
   "execution_count": null,
   "metadata": {},
   "outputs": [],
   "source": []
  }
 ],
 "metadata": {
  "kernelspec": {
   "display_name": "Python 3.10.6 64-bit",
   "language": "python",
   "name": "python3"
  },
  "language_info": {
   "codemirror_mode": {
    "name": "ipython",
    "version": 3
   },
   "file_extension": ".py",
   "mimetype": "text/x-python",
   "name": "python",
   "nbconvert_exporter": "python",
   "pygments_lexer": "ipython3",
   "version": "3.10.6"
  },
  "orig_nbformat": 4,
  "vscode": {
   "interpreter": {
    "hash": "916dbcbb3f70747c44a77c7bcd40155683ae19c65e1c03b4aa3499c5328201f1"
   }
  }
 },
 "nbformat": 4,
 "nbformat_minor": 2
}
