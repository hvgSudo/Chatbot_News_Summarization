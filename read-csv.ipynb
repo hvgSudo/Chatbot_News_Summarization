{
 "cells": [
  {
   "cell_type": "code",
   "execution_count": 1,
   "metadata": {},
   "outputs": [],
   "source": [
    "import pandas as pd"
   ]
  },
  {
   "cell_type": "code",
   "execution_count": 2,
   "metadata": {},
   "outputs": [
    {
     "name": "stdout",
     "output_type": "stream",
     "text": [
      "<class 'pandas.core.frame.DataFrame'>\n",
      "RangeIndex: 300 entries, 0 to 299\n",
      "Data columns (total 3 columns):\n",
      " #   Column       Non-Null Count  Dtype \n",
      "---  ------       --------------  ----- \n",
      " 0   Title        300 non-null    object\n",
      " 1   Description  300 non-null    object\n",
      " 2   Link         300 non-null    object\n",
      "dtypes: object(3)\n",
      "memory usage: 7.2+ KB\n"
     ]
    }
   ],
   "source": [
    "df = pd.read_csv('data.csv')\n",
    "df.info()"
   ]
  },
  {
   "cell_type": "code",
   "execution_count": 3,
   "metadata": {},
   "outputs": [
    {
     "data": {
      "text/html": [
       "<div>\n",
       "<style scoped>\n",
       "    .dataframe tbody tr th:only-of-type {\n",
       "        vertical-align: middle;\n",
       "    }\n",
       "\n",
       "    .dataframe tbody tr th {\n",
       "        vertical-align: top;\n",
       "    }\n",
       "\n",
       "    .dataframe thead th {\n",
       "        text-align: right;\n",
       "    }\n",
       "</style>\n",
       "<table border=\"1\" class=\"dataframe\">\n",
       "  <thead>\n",
       "    <tr style=\"text-align: right;\">\n",
       "      <th></th>\n",
       "      <th>Title</th>\n",
       "      <th>Description</th>\n",
       "      <th>Link</th>\n",
       "    </tr>\n",
       "  </thead>\n",
       "  <tbody>\n",
       "    <tr>\n",
       "      <th>0</th>\n",
       "      <td>Serena Williams is the \"newest Formula 1 DJ\" (...</td>\n",
       "      <td>Undoubtedly Serena Williams wants to have as ...</td>\n",
       "      <td>https://www.tennisworldusa.org/tennis/news/Se...</td>\n",
       "    </tr>\n",
       "    <tr>\n",
       "      <th>1</th>\n",
       "      <td>Who Maserati has lined up to replace F1-bound ...</td>\n",
       "      <td>AlphaTauri F1 recruit Nyck de Vries' place at...</td>\n",
       "      <td>https://the-race.com/formula-e/who-maserati-h...</td>\n",
       "    </tr>\n",
       "    <tr>\n",
       "      <th>2</th>\n",
       "      <td>The F1 driver market has one seat left - so wh...</td>\n",
       "      <td>Mick Schumacher was once again on the wrong e...</td>\n",
       "      <td>https://www.crash.net/f1/news/1015610/1/f1-dr...</td>\n",
       "    </tr>\n",
       "    <tr>\n",
       "      <th>3</th>\n",
       "      <td>'That was some driving' – Magnussen applauds V...</td>\n",
       "      <td>Haas started their home race weekend on a hig...</td>\n",
       "      <td>https://www.formula1.com/en/latest/article.th...</td>\n",
       "    </tr>\n",
       "    <tr>\n",
       "      <th>4</th>\n",
       "      <td>F1 LIVE: Red Bull await budget cap penalty aft...</td>\n",
       "      <td>Max Verstappen passed Lewis Hamilton with six...</td>\n",
       "      <td>https://www.independent.co.uk/f1/red-bull-cos...</td>\n",
       "    </tr>\n",
       "  </tbody>\n",
       "</table>\n",
       "</div>"
      ],
      "text/plain": [
       "                                               Title  \\\n",
       "0  Serena Williams is the \"newest Formula 1 DJ\" (...   \n",
       "1  Who Maserati has lined up to replace F1-bound ...   \n",
       "2  The F1 driver market has one seat left - so wh...   \n",
       "3  'That was some driving' – Magnussen applauds V...   \n",
       "4  F1 LIVE: Red Bull await budget cap penalty aft...   \n",
       "\n",
       "                                         Description  \\\n",
       "0   Undoubtedly Serena Williams wants to have as ...   \n",
       "1   AlphaTauri F1 recruit Nyck de Vries' place at...   \n",
       "2   Mick Schumacher was once again on the wrong e...   \n",
       "3   Haas started their home race weekend on a hig...   \n",
       "4   Max Verstappen passed Lewis Hamilton with six...   \n",
       "\n",
       "                                                Link  \n",
       "0   https://www.tennisworldusa.org/tennis/news/Se...  \n",
       "1   https://the-race.com/formula-e/who-maserati-h...  \n",
       "2   https://www.crash.net/f1/news/1015610/1/f1-dr...  \n",
       "3   https://www.formula1.com/en/latest/article.th...  \n",
       "4   https://www.independent.co.uk/f1/red-bull-cos...  "
      ]
     },
     "execution_count": 3,
     "metadata": {},
     "output_type": "execute_result"
    }
   ],
   "source": [
    "df.head()"
   ]
  },
  {
   "cell_type": "code",
   "execution_count": null,
   "metadata": {},
   "outputs": [],
   "source": []
  }
 ],
 "metadata": {
  "kernelspec": {
   "display_name": "Python 3.10.6 64-bit",
   "language": "python",
   "name": "python3"
  },
  "language_info": {
   "codemirror_mode": {
    "name": "ipython",
    "version": 3
   },
   "file_extension": ".py",
   "mimetype": "text/x-python",
   "name": "python",
   "nbconvert_exporter": "python",
   "pygments_lexer": "ipython3",
   "version": "3.10.6"
  },
  "orig_nbformat": 4,
  "vscode": {
   "interpreter": {
    "hash": "916dbcbb3f70747c44a77c7bcd40155683ae19c65e1c03b4aa3499c5328201f1"
   }
  }
 },
 "nbformat": 4,
 "nbformat_minor": 2
}
