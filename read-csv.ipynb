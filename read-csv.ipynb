{
 "cells": [
  {
   "cell_type": "code",
   "execution_count": 1,
   "metadata": {},
   "outputs": [],
   "source": [
    "import pandas as pd"
   ]
  },
  {
   "cell_type": "code",
   "execution_count": 2,
   "metadata": {},
   "outputs": [
    {
     "name": "stdout",
     "output_type": "stream",
     "text": [
      "<class 'pandas.core.frame.DataFrame'>\n",
      "RangeIndex: 100 entries, 0 to 99\n",
      "Data columns (total 6 columns):\n",
      " #   Column          Non-Null Count  Dtype \n",
      "---  ------          --------------  ----- \n",
      " 0   title           95 non-null     object\n",
      " 1   link            100 non-null    object\n",
      " 2   source          100 non-null    object\n",
      " 3   snippet         100 non-null    object\n",
      " 4   date_published  100 non-null    object\n",
      " 5   thumbnail       94 non-null     object\n",
      "dtypes: object(6)\n",
      "memory usage: 4.8+ KB\n"
     ]
    }
   ],
   "source": [
    "df_1 = pd.read_json('scraped_data.json')\n",
    "df_1.info()"
   ]
  },
  {
   "cell_type": "code",
   "execution_count": 3,
   "metadata": {},
   "outputs": [
    {
     "data": {
      "text/html": [
       "<div>\n",
       "<style scoped>\n",
       "    .dataframe tbody tr th:only-of-type {\n",
       "        vertical-align: middle;\n",
       "    }\n",
       "\n",
       "    .dataframe tbody tr th {\n",
       "        vertical-align: top;\n",
       "    }\n",
       "\n",
       "    .dataframe thead th {\n",
       "        text-align: right;\n",
       "    }\n",
       "</style>\n",
       "<table border=\"1\" class=\"dataframe\">\n",
       "  <thead>\n",
       "    <tr style=\"text-align: right;\">\n",
       "      <th></th>\n",
       "      <th>title</th>\n",
       "      <th>link</th>\n",
       "      <th>source</th>\n",
       "      <th>snippet</th>\n",
       "      <th>date_published</th>\n",
       "      <th>thumbnail</th>\n",
       "    </tr>\n",
       "  </thead>\n",
       "  <tbody>\n",
       "    <tr>\n",
       "      <th>0</th>\n",
       "      <td>None</td>\n",
       "      <td>https://www.motorsport.com/f1/news/norris-crit...</td>\n",
       "      <td>Motorsport.com</td>\n",
       "      <td>Alpine suspects that the swipes that Lando Nor...</td>\n",
       "      <td>15 hours ago</td>\n",
       "      <td>None</td>\n",
       "    </tr>\n",
       "    <tr>\n",
       "      <th>1</th>\n",
       "      <td>None</td>\n",
       "      <td>https://www.motorsportweek.com/2022/10/14/merc...</td>\n",
       "      <td>Motorsport Week</td>\n",
       "      <td>Mercedes is prepared to breach Formula 1's bud...</td>\n",
       "      <td>18 hours ago</td>\n",
       "      <td>data:image/jpeg;base64,/9j/4AAQSkZJRgABAQAAAQA...</td>\n",
       "    </tr>\n",
       "    <tr>\n",
       "      <th>2</th>\n",
       "      <td>None</td>\n",
       "      <td>https://www.motorsport.com/f1/news/mclaren-rev...</td>\n",
       "      <td>Motorsport.com</td>\n",
       "      <td>McLaren has confirmed that IndyCar aces Pato O...</td>\n",
       "      <td>15 hours ago</td>\n",
       "      <td>data:image/jpeg;base64,/9j/4AAQSkZJRgABAQAAAQA...</td>\n",
       "    </tr>\n",
       "    <tr>\n",
       "      <th>3</th>\n",
       "      <td>None</td>\n",
       "      <td>https://www.motorsport.com/f1/news/aston-marti...</td>\n",
       "      <td>Motorsport.com</td>\n",
       "      <td>Aston Martin Formula 1 boss Mike Krack says th...</td>\n",
       "      <td>14 hours ago</td>\n",
       "      <td>data:image/jpeg;base64,/9j/4AAQSkZJRgABAQAAAQA...</td>\n",
       "    </tr>\n",
       "    <tr>\n",
       "      <th>4</th>\n",
       "      <td>None</td>\n",
       "      <td>https://the-race.com/formula-1/somethings-up-t...</td>\n",
       "      <td>The Race</td>\n",
       "      <td>As his McLaren struggle - and maybe his Formul...</td>\n",
       "      <td>4 hours ago</td>\n",
       "      <td>data:image/jpeg;base64,/9j/4AAQSkZJRgABAQAAAQA...</td>\n",
       "    </tr>\n",
       "  </tbody>\n",
       "</table>\n",
       "</div>"
      ],
      "text/plain": [
       "  title                                               link           source  \\\n",
       "0  None  https://www.motorsport.com/f1/news/norris-crit...   Motorsport.com   \n",
       "1  None  https://www.motorsportweek.com/2022/10/14/merc...  Motorsport Week   \n",
       "2  None  https://www.motorsport.com/f1/news/mclaren-rev...   Motorsport.com   \n",
       "3  None  https://www.motorsport.com/f1/news/aston-marti...   Motorsport.com   \n",
       "4  None  https://the-race.com/formula-1/somethings-up-t...         The Race   \n",
       "\n",
       "                                             snippet date_published  \\\n",
       "0  Alpine suspects that the swipes that Lando Nor...   15 hours ago   \n",
       "1  Mercedes is prepared to breach Formula 1's bud...   18 hours ago   \n",
       "2  McLaren has confirmed that IndyCar aces Pato O...   15 hours ago   \n",
       "3  Aston Martin Formula 1 boss Mike Krack says th...   14 hours ago   \n",
       "4  As his McLaren struggle - and maybe his Formul...    4 hours ago   \n",
       "\n",
       "                                           thumbnail  \n",
       "0                                               None  \n",
       "1  data:image/jpeg;base64,/9j/4AAQSkZJRgABAQAAAQA...  \n",
       "2  data:image/jpeg;base64,/9j/4AAQSkZJRgABAQAAAQA...  \n",
       "3  data:image/jpeg;base64,/9j/4AAQSkZJRgABAQAAAQA...  \n",
       "4  data:image/jpeg;base64,/9j/4AAQSkZJRgABAQAAAQA...  "
      ]
     },
     "execution_count": 3,
     "metadata": {},
     "output_type": "execute_result"
    }
   ],
   "source": [
    "df_1.head()"
   ]
  },
  {
   "cell_type": "code",
   "execution_count": 2,
   "metadata": {},
   "outputs": [
    {
     "name": "stdout",
     "output_type": "stream",
     "text": [
      "<class 'pandas.core.frame.DataFrame'>\n",
      "RangeIndex: 279 entries, 0 to 278\n",
      "Data columns (total 4 columns):\n",
      " #   Column       Non-Null Count  Dtype  \n",
      "---  ------       --------------  -----  \n",
      " 0   Title        279 non-null    object \n",
      " 1   Time         279 non-null    object \n",
      " 2   Description  279 non-null    object \n",
      " 3   Link         0 non-null      float64\n",
      "dtypes: float64(1), object(3)\n",
      "memory usage: 8.8+ KB\n"
     ]
    }
   ],
   "source": [
    "df = pd.read_csv('data.csv')\n",
    "df.info()"
   ]
  },
  {
   "cell_type": "code",
   "execution_count": 3,
   "metadata": {},
   "outputs": [
    {
     "data": {
      "text/html": [
       "<div>\n",
       "<style scoped>\n",
       "    .dataframe tbody tr th:only-of-type {\n",
       "        vertical-align: middle;\n",
       "    }\n",
       "\n",
       "    .dataframe tbody tr th {\n",
       "        vertical-align: top;\n",
       "    }\n",
       "\n",
       "    .dataframe thead th {\n",
       "        text-align: right;\n",
       "    }\n",
       "</style>\n",
       "<table border=\"1\" class=\"dataframe\">\n",
       "  <thead>\n",
       "    <tr style=\"text-align: right;\">\n",
       "      <th></th>\n",
       "      <th>Title</th>\n",
       "      <th>Time</th>\n",
       "      <th>Description</th>\n",
       "      <th>Link</th>\n",
       "    </tr>\n",
       "  </thead>\n",
       "  <tbody>\n",
       "    <tr>\n",
       "      <th>0</th>\n",
       "      <td>Vettel names his toughest F1 rival after 15 ye...</td>\n",
       "      <td>Sebastian Vettel has named Lewis Hamilton as ...</td>\n",
       "      <td>https://www.formula1.com/en/latest/article.ve...</td>\n",
       "      <td>NaN</td>\n",
       "    </tr>\n",
       "    <tr>\n",
       "      <th>1</th>\n",
       "      <td>Horner explains why now is the right time for ...</td>\n",
       "      <td>“In that time we've recruited some of the bes...</td>\n",
       "      <td>https://www.formula1.com/en/latest/article.ho...</td>\n",
       "      <td>NaN</td>\n",
       "    </tr>\n",
       "    <tr>\n",
       "      <th>2</th>\n",
       "      <td>IndyCar racers Alex Palou and Pato O’Ward set ...</td>\n",
       "      <td>Palou said: “I'm so excited to be making my F...</td>\n",
       "      <td>https://www.formula1.com/en/latest/article.in...</td>\n",
       "      <td>NaN</td>\n",
       "    </tr>\n",
       "    <tr>\n",
       "      <th>3</th>\n",
       "      <td>From Ascari to Verstappen: How all 11 back-to-...</td>\n",
       "      <td>Max Verstappen is now a double F1 world champ...</td>\n",
       "      <td>https://www.formula1.com/en/latest/article.fr...</td>\n",
       "      <td>NaN</td>\n",
       "    </tr>\n",
       "    <tr>\n",
       "      <th>4</th>\n",
       "      <td>F1 TRACKS: Magnussen Schumacher and Steiner pi...</td>\n",
       "      <td>Guenther Steiner Kevin Magnussen Mick Schumac...</td>\n",
       "      <td>https://www.formula1.com/en/latest/article.f1...</td>\n",
       "      <td>NaN</td>\n",
       "    </tr>\n",
       "  </tbody>\n",
       "</table>\n",
       "</div>"
      ],
      "text/plain": [
       "                                               Title  \\\n",
       "0  Vettel names his toughest F1 rival after 15 ye...   \n",
       "1  Horner explains why now is the right time for ...   \n",
       "2  IndyCar racers Alex Palou and Pato O’Ward set ...   \n",
       "3  From Ascari to Verstappen: How all 11 back-to-...   \n",
       "4  F1 TRACKS: Magnussen Schumacher and Steiner pi...   \n",
       "\n",
       "                                                Time  \\\n",
       "0   Sebastian Vettel has named Lewis Hamilton as ...   \n",
       "1   “In that time we've recruited some of the bes...   \n",
       "2   Palou said: “I'm so excited to be making my F...   \n",
       "3   Max Verstappen is now a double F1 world champ...   \n",
       "4   Guenther Steiner Kevin Magnussen Mick Schumac...   \n",
       "\n",
       "                                         Description  Link  \n",
       "0   https://www.formula1.com/en/latest/article.ve...   NaN  \n",
       "1   https://www.formula1.com/en/latest/article.ho...   NaN  \n",
       "2   https://www.formula1.com/en/latest/article.in...   NaN  \n",
       "3   https://www.formula1.com/en/latest/article.fr...   NaN  \n",
       "4   https://www.formula1.com/en/latest/article.f1...   NaN  "
      ]
     },
     "execution_count": 3,
     "metadata": {},
     "output_type": "execute_result"
    }
   ],
   "source": [
    "df.head()"
   ]
  },
  {
   "cell_type": "code",
   "execution_count": null,
   "metadata": {},
   "outputs": [],
   "source": []
  }
 ],
 "metadata": {
  "kernelspec": {
   "display_name": "Python 3.10.6 64-bit",
   "language": "python",
   "name": "python3"
  },
  "language_info": {
   "codemirror_mode": {
    "name": "ipython",
    "version": 3
   },
   "file_extension": ".py",
   "mimetype": "text/x-python",
   "name": "python",
   "nbconvert_exporter": "python",
   "pygments_lexer": "ipython3",
   "version": "3.10.6"
  },
  "orig_nbformat": 4,
  "vscode": {
   "interpreter": {
    "hash": "916dbcbb3f70747c44a77c7bcd40155683ae19c65e1c03b4aa3499c5328201f1"
   }
  }
 },
 "nbformat": 4,
 "nbformat_minor": 2
}
