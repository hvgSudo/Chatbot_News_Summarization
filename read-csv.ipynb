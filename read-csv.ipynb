{
 "cells": [
  {
   "cell_type": "code",
   "execution_count": 13,
   "metadata": {},
   "outputs": [],
   "source": [
    "import pandas as pd"
   ]
  },
  {
   "cell_type": "code",
   "execution_count": 14,
   "metadata": {},
   "outputs": [],
   "source": [
    "df = pd.read_csv('f1_dataset_2.csv')"
   ]
  },
  {
   "cell_type": "code",
   "execution_count": 15,
   "metadata": {},
   "outputs": [
    {
     "data": {
      "text/html": [
       "<div>\n",
       "<style scoped>\n",
       "    .dataframe tbody tr th:only-of-type {\n",
       "        vertical-align: middle;\n",
       "    }\n",
       "\n",
       "    .dataframe tbody tr th {\n",
       "        vertical-align: top;\n",
       "    }\n",
       "\n",
       "    .dataframe thead th {\n",
       "        text-align: right;\n",
       "    }\n",
       "</style>\n",
       "<table border=\"1\" class=\"dataframe\">\n",
       "  <thead>\n",
       "    <tr style=\"text-align: right;\">\n",
       "      <th></th>\n",
       "      <th>Title</th>\n",
       "      <th>Link</th>\n",
       "      <th>Summary</th>\n",
       "      <th>Description</th>\n",
       "      <th>Summary By Model</th>\n",
       "    </tr>\n",
       "  </thead>\n",
       "  <tbody>\n",
       "    <tr>\n",
       "      <th>0</th>\n",
       "      <td>Formula 1 | Russell: Our lifestyle is 'not hea...</td>\n",
       "      <td>https://lookcharms.com/formula-1-russell-our-...</td>\n",
       "      <td>On becoming a Mercedes F1 driver George Russe...</td>\n",
       "      <td>On becoming a Mercedes F1 driver George Russe...</td>\n",
       "      <td>I am driven and motivated by winning races and...</td>\n",
       "    </tr>\n",
       "    <tr>\n",
       "      <th>1</th>\n",
       "      <td>Las Vegas hosts Formula 1 launch party ahead o...</td>\n",
       "      <td>https://www.motorsportweek.com/2022/11/06/las...</td>\n",
       "      <td>Las Vegas returns to the Formula 1 calendar i...</td>\n",
       "      <td>Las Vegas returns to the Formula 1 calendar i...</td>\n",
       "      <td>The launch party was hosted at Caesars Palace ...</td>\n",
       "    </tr>\n",
       "    <tr>\n",
       "      <th>2</th>\n",
       "      <td>F1 teams among those targeted in global hackin...</td>\n",
       "      <td>https://racingnews365.com/f1-teams-among-thos...</td>\n",
       "      <td>Formula 1 teams and personnel are among those...</td>\n",
       "      <td>Formula 1 teams and personnel are among those...</td>\n",
       "      <td>based in India and targeted more than 100 vict...</td>\n",
       "    </tr>\n",
       "    <tr>\n",
       "      <th>3</th>\n",
       "      <td>Video: F1 pit-stops under two seconds are allo...</td>\n",
       "      <td>https://racingnews365.com/video-f1-pit-stops-...</td>\n",
       "      <td>A change in Formula 1 regulations this year h...</td>\n",
       "      <td>A change in Formula 1 regulations this year h...</td>\n",
       "      <td>This year has seen the sport move from 13inch ...</td>\n",
       "    </tr>\n",
       "    <tr>\n",
       "      <th>4</th>\n",
       "      <td>F1 hits the jackpot with Vegas GP launch party</td>\n",
       "      <td>https://f1i.com/news/459503-f1-hits-the-jackp...</td>\n",
       "      <td>It might still be a year away from making its...</td>\n",
       "      <td>It might still be a year away from making its...</td>\n",
       "      <td>pictures Mexican GP Sundays action in pictures...</td>\n",
       "    </tr>\n",
       "  </tbody>\n",
       "</table>\n",
       "</div>"
      ],
      "text/plain": [
       "                                               Title  \\\n",
       "0  Formula 1 | Russell: Our lifestyle is 'not hea...   \n",
       "1  Las Vegas hosts Formula 1 launch party ahead o...   \n",
       "2  F1 teams among those targeted in global hackin...   \n",
       "3  Video: F1 pit-stops under two seconds are allo...   \n",
       "4     F1 hits the jackpot with Vegas GP launch party   \n",
       "\n",
       "                                                Link  \\\n",
       "0   https://lookcharms.com/formula-1-russell-our-...   \n",
       "1   https://www.motorsportweek.com/2022/11/06/las...   \n",
       "2   https://racingnews365.com/f1-teams-among-thos...   \n",
       "3   https://racingnews365.com/video-f1-pit-stops-...   \n",
       "4   https://f1i.com/news/459503-f1-hits-the-jackp...   \n",
       "\n",
       "                                             Summary  \\\n",
       "0   On becoming a Mercedes F1 driver George Russe...   \n",
       "1   Las Vegas returns to the Formula 1 calendar i...   \n",
       "2   Formula 1 teams and personnel are among those...   \n",
       "3   A change in Formula 1 regulations this year h...   \n",
       "4   It might still be a year away from making its...   \n",
       "\n",
       "                                         Description  \\\n",
       "0   On becoming a Mercedes F1 driver George Russe...   \n",
       "1   Las Vegas returns to the Formula 1 calendar i...   \n",
       "2   Formula 1 teams and personnel are among those...   \n",
       "3   A change in Formula 1 regulations this year h...   \n",
       "4   It might still be a year away from making its...   \n",
       "\n",
       "                                    Summary By Model  \n",
       "0  I am driven and motivated by winning races and...  \n",
       "1  The launch party was hosted at Caesars Palace ...  \n",
       "2  based in India and targeted more than 100 vict...  \n",
       "3  This year has seen the sport move from 13inch ...  \n",
       "4  pictures Mexican GP Sundays action in pictures...  "
      ]
     },
     "execution_count": 15,
     "metadata": {},
     "output_type": "execute_result"
    }
   ],
   "source": [
    "df.head()"
   ]
  },
  {
   "cell_type": "code",
   "execution_count": 16,
   "metadata": {},
   "outputs": [
    {
     "data": {
      "text/plain": [
       "(694, 2171, 294)"
      ]
     },
     "execution_count": 16,
     "metadata": {},
     "output_type": "execute_result"
    }
   ],
   "source": [
    "len(df['Summary'][0]), len(df['Description'][0]), len(df['Summary By Model'][0])"
   ]
  },
  {
   "cell_type": "code",
   "execution_count": 5,
   "metadata": {},
   "outputs": [
    {
     "name": "stdout",
     "output_type": "stream",
     "text": [
      "<class 'pandas.core.frame.DataFrame'>\n",
      "RangeIndex: 910 entries, 0 to 909\n",
      "Data columns (total 5 columns):\n",
      " #   Column            Non-Null Count  Dtype \n",
      "---  ------            --------------  ----- \n",
      " 0   Title             910 non-null    object\n",
      " 1   Link              910 non-null    object\n",
      " 2   Summary           910 non-null    object\n",
      " 3   Description       910 non-null    object\n",
      " 4   Summary By Model  842 non-null    object\n",
      "dtypes: object(5)\n",
      "memory usage: 35.7+ KB\n"
     ]
    }
   ],
   "source": [
    "df.info()"
   ]
  },
  {
   "cell_type": "code",
   "execution_count": 19,
   "metadata": {},
   "outputs": [],
   "source": [
    "df_new = df.dropna()"
   ]
  },
  {
   "cell_type": "code",
   "execution_count": 20,
   "metadata": {},
   "outputs": [
    {
     "name": "stdout",
     "output_type": "stream",
     "text": [
      "<class 'pandas.core.frame.DataFrame'>\n",
      "Int64Index: 842 entries, 0 to 909\n",
      "Data columns (total 5 columns):\n",
      " #   Column            Non-Null Count  Dtype \n",
      "---  ------            --------------  ----- \n",
      " 0   Title             842 non-null    object\n",
      " 1   Link              842 non-null    object\n",
      " 2   Summary           842 non-null    object\n",
      " 3   Description       842 non-null    object\n",
      " 4   Summary By Model  842 non-null    object\n",
      "dtypes: object(5)\n",
      "memory usage: 39.5+ KB\n"
     ]
    }
   ],
   "source": [
    "df_new.info()"
   ]
  },
  {
   "cell_type": "code",
   "execution_count": 6,
   "metadata": {},
   "outputs": [],
   "source": [
    "import json\n",
    "json_dum = json.dumps(df_new['Summary By Model'].to_list())\n",
    "\n",
    "with open('scraped_data.json', 'w') as outfile:\n",
    "    outfile.write(json_dum)"
   ]
  },
  {
   "cell_type": "code",
   "execution_count": null,
   "metadata": {},
   "outputs": [],
   "source": []
  }
 ],
 "metadata": {
  "kernelspec": {
   "display_name": "Python 3.10.6 64-bit",
   "language": "python",
   "name": "python3"
  },
  "language_info": {
   "codemirror_mode": {
    "name": "ipython",
    "version": 3
   },
   "file_extension": ".py",
   "mimetype": "text/x-python",
   "name": "python",
   "nbconvert_exporter": "python",
   "pygments_lexer": "ipython3",
   "version": "3.10.6"
  },
  "orig_nbformat": 4,
  "vscode": {
   "interpreter": {
    "hash": "916dbcbb3f70747c44a77c7bcd40155683ae19c65e1c03b4aa3499c5328201f1"
   }
  }
 },
 "nbformat": 4,
 "nbformat_minor": 2
}
