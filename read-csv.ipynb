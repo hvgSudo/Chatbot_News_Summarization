{
 "cells": [
  {
   "cell_type": "code",
   "execution_count": 1,
   "metadata": {},
   "outputs": [],
   "source": [
    "import pandas as pd"
   ]
  },
  {
   "cell_type": "code",
   "execution_count": 2,
   "metadata": {},
   "outputs": [
    {
     "name": "stdout",
     "output_type": "stream",
     "text": [
      "<class 'pandas.core.frame.DataFrame'>\n",
      "RangeIndex: 600 entries, 0 to 599\n",
      "Data columns (total 3 columns):\n",
      " #   Column       Non-Null Count  Dtype \n",
      "---  ------       --------------  ----- \n",
      " 0   Title        600 non-null    object\n",
      " 1   Description  600 non-null    object\n",
      " 2   Link         600 non-null    object\n",
      "dtypes: object(3)\n",
      "memory usage: 14.2+ KB\n"
     ]
    }
   ],
   "source": [
    "df = pd.read_csv('data.csv')\n",
    "df.info()"
   ]
  },
  {
   "cell_type": "code",
   "execution_count": 3,
   "metadata": {},
   "outputs": [
    {
     "data": {
      "text/html": [
       "<div>\n",
       "<style scoped>\n",
       "    .dataframe tbody tr th:only-of-type {\n",
       "        vertical-align: middle;\n",
       "    }\n",
       "\n",
       "    .dataframe tbody tr th {\n",
       "        vertical-align: top;\n",
       "    }\n",
       "\n",
       "    .dataframe thead th {\n",
       "        text-align: right;\n",
       "    }\n",
       "</style>\n",
       "<table border=\"1\" class=\"dataframe\">\n",
       "  <thead>\n",
       "    <tr style=\"text-align: right;\">\n",
       "      <th></th>\n",
       "      <th>Title</th>\n",
       "      <th>Description</th>\n",
       "      <th>Link</th>\n",
       "    </tr>\n",
       "  </thead>\n",
       "  <tbody>\n",
       "    <tr>\n",
       "      <th>0</th>\n",
       "      <td>Dietrich Mateschitz Creator of the Red Bull Em...</td>\n",
       "      <td>The Austrian salesman turned a Thai energy dr...</td>\n",
       "      <td>https://www.nytimes.com/2022/10/24/world/euro...</td>\n",
       "    </tr>\n",
       "    <tr>\n",
       "      <th>1</th>\n",
       "      <td>Aussie rising star set for first F1 outing thi...</td>\n",
       "      <td>Aussie rising star Jack Doohan could get his ...</td>\n",
       "      <td>https://www.foxsports.com.au/motorsport/formu...</td>\n",
       "    </tr>\n",
       "    <tr>\n",
       "      <th>2</th>\n",
       "      <td>Fernando Alonso: Alpine driver questions Formu...</td>\n",
       "      <td>Fernando Alonso questions Formula 1's directi...</td>\n",
       "      <td>https://www.bbc.co.uk/sport/formula1/63381586</td>\n",
       "    </tr>\n",
       "    <tr>\n",
       "      <th>3</th>\n",
       "      <td>ESPN’s Formula 1 races will remain commercial-...</td>\n",
       "      <td>On Saturday Disney announced the company's ne...</td>\n",
       "      <td>https://awfulannouncing.com/espn/espns-formul...</td>\n",
       "    </tr>\n",
       "    <tr>\n",
       "      <th>4</th>\n",
       "      <td>Shock Red Bull death rocks Formula 1</td>\n",
       "      <td>Red Bull owner Dietrich Mateschitz has died a...</td>\n",
       "      <td>https://www.news.com.au/sport/motorsport/form...</td>\n",
       "    </tr>\n",
       "  </tbody>\n",
       "</table>\n",
       "</div>"
      ],
      "text/plain": [
       "                                               Title  \\\n",
       "0  Dietrich Mateschitz Creator of the Red Bull Em...   \n",
       "1  Aussie rising star set for first F1 outing thi...   \n",
       "2  Fernando Alonso: Alpine driver questions Formu...   \n",
       "3  ESPN’s Formula 1 races will remain commercial-...   \n",
       "4               Shock Red Bull death rocks Formula 1   \n",
       "\n",
       "                                         Description  \\\n",
       "0   The Austrian salesman turned a Thai energy dr...   \n",
       "1   Aussie rising star Jack Doohan could get his ...   \n",
       "2   Fernando Alonso questions Formula 1's directi...   \n",
       "3   On Saturday Disney announced the company's ne...   \n",
       "4   Red Bull owner Dietrich Mateschitz has died a...   \n",
       "\n",
       "                                                Link  \n",
       "0   https://www.nytimes.com/2022/10/24/world/euro...  \n",
       "1   https://www.foxsports.com.au/motorsport/formu...  \n",
       "2      https://www.bbc.co.uk/sport/formula1/63381586  \n",
       "3   https://awfulannouncing.com/espn/espns-formul...  \n",
       "4   https://www.news.com.au/sport/motorsport/form...  "
      ]
     },
     "execution_count": 3,
     "metadata": {},
     "output_type": "execute_result"
    }
   ],
   "source": [
    "df.head()"
   ]
  },
  {
   "cell_type": "code",
   "execution_count": null,
   "metadata": {},
   "outputs": [],
   "source": []
  }
 ],
 "metadata": {
  "kernelspec": {
   "display_name": "Python 3.10.6 64-bit",
   "language": "python",
   "name": "python3"
  },
  "language_info": {
   "codemirror_mode": {
    "name": "ipython",
    "version": 3
   },
   "file_extension": ".py",
   "mimetype": "text/x-python",
   "name": "python",
   "nbconvert_exporter": "python",
   "pygments_lexer": "ipython3",
   "version": "3.10.6"
  },
  "orig_nbformat": 4,
  "vscode": {
   "interpreter": {
    "hash": "916dbcbb3f70747c44a77c7bcd40155683ae19c65e1c03b4aa3499c5328201f1"
   }
  }
 },
 "nbformat": 4,
 "nbformat_minor": 2
}
